{
  "nbformat": 4,
  "nbformat_minor": 0,
  "metadata": {
    "colab": {
      "name": "lm-as-kb.ipynb",
      "provenance": [],
      "collapsed_sections": []
    },
    "kernelspec": {
      "name": "python3",
      "display_name": "Python 3"
    },
    "language_info": {
      "name": "python"
    },
    "accelerator": "GPU"
  },
  "cells": [
    {
      "cell_type": "markdown",
      "source": [
        "**LMs and Knwoledge Bases** \n",
        "This notebook explains a simple solution for the Practice II of Lecture 4. In the exercise, we are asked to focus on three relation types. These relation types are \"place of birth (POB)\", \"date of birth (DOP)\", and \"place of death (POD)\". This solution is designed for the POD. However, you should be able to learn how to design a similar solution for POB and DOP as well. "
      ],
      "metadata": {
        "id": "3wXhKzBOn-rt"
      }
    },
    {
      "cell_type": "markdown",
      "source": [
        "First we need to upload the transformers architecture because we are going to use BERT. "
      ],
      "metadata": {
        "id": "yG6tyFR-pY0V"
      }
    },
    {
      "cell_type": "code",
      "source": [
        "!pip install datasets transformers[sentencepiece]"
      ],
      "metadata": {
        "colab": {
          "base_uri": "https://localhost:8080/"
        },
        "id": "BV90Zaf2i8Gf",
        "outputId": "0110f149-1518-4b41-b1e4-dc4fa50bcc53"
      },
      "execution_count": 42,
      "outputs": [
        {
          "output_type": "stream",
          "name": "stdout",
          "text": [
            "Requirement already satisfied: datasets in /usr/local/lib/python3.7/dist-packages (2.1.0)\n",
            "Requirement already satisfied: transformers[sentencepiece] in /usr/local/lib/python3.7/dist-packages (4.18.0)\n",
            "Requirement already satisfied: tqdm>=4.62.1 in /usr/local/lib/python3.7/dist-packages (from datasets) (4.64.0)\n",
            "Requirement already satisfied: numpy>=1.17 in /usr/local/lib/python3.7/dist-packages (from datasets) (1.21.6)\n",
            "Requirement already satisfied: aiohttp in /usr/local/lib/python3.7/dist-packages (from datasets) (3.8.1)\n",
            "Requirement already satisfied: packaging in /usr/local/lib/python3.7/dist-packages (from datasets) (21.3)\n",
            "Requirement already satisfied: dill in /usr/local/lib/python3.7/dist-packages (from datasets) (0.3.4)\n",
            "Requirement already satisfied: pandas in /usr/local/lib/python3.7/dist-packages (from datasets) (1.3.5)\n",
            "Requirement already satisfied: multiprocess in /usr/local/lib/python3.7/dist-packages (from datasets) (0.70.12.2)\n",
            "Requirement already satisfied: pyarrow>=5.0.0 in /usr/local/lib/python3.7/dist-packages (from datasets) (6.0.1)\n",
            "Requirement already satisfied: xxhash in /usr/local/lib/python3.7/dist-packages (from datasets) (3.0.0)\n",
            "Requirement already satisfied: fsspec[http]>=2021.05.0 in /usr/local/lib/python3.7/dist-packages (from datasets) (2022.3.0)\n",
            "Requirement already satisfied: responses<0.19 in /usr/local/lib/python3.7/dist-packages (from datasets) (0.18.0)\n",
            "Requirement already satisfied: importlib-metadata in /usr/local/lib/python3.7/dist-packages (from datasets) (4.11.3)\n",
            "Requirement already satisfied: requests>=2.19.0 in /usr/local/lib/python3.7/dist-packages (from datasets) (2.23.0)\n",
            "Requirement already satisfied: huggingface-hub<1.0.0,>=0.1.0 in /usr/local/lib/python3.7/dist-packages (from datasets) (0.5.1)\n",
            "Requirement already satisfied: typing-extensions>=3.7.4.3 in /usr/local/lib/python3.7/dist-packages (from huggingface-hub<1.0.0,>=0.1.0->datasets) (4.2.0)\n",
            "Requirement already satisfied: filelock in /usr/local/lib/python3.7/dist-packages (from huggingface-hub<1.0.0,>=0.1.0->datasets) (3.6.0)\n",
            "Requirement already satisfied: pyyaml in /usr/local/lib/python3.7/dist-packages (from huggingface-hub<1.0.0,>=0.1.0->datasets) (6.0)\n",
            "Requirement already satisfied: pyparsing!=3.0.5,>=2.0.2 in /usr/local/lib/python3.7/dist-packages (from packaging->datasets) (3.0.8)\n",
            "Requirement already satisfied: idna<3,>=2.5 in /usr/local/lib/python3.7/dist-packages (from requests>=2.19.0->datasets) (2.10)\n",
            "Requirement already satisfied: chardet<4,>=3.0.2 in /usr/local/lib/python3.7/dist-packages (from requests>=2.19.0->datasets) (3.0.4)\n",
            "Requirement already satisfied: urllib3!=1.25.0,!=1.25.1,<1.26,>=1.21.1 in /usr/local/lib/python3.7/dist-packages (from requests>=2.19.0->datasets) (1.25.11)\n",
            "Requirement already satisfied: certifi>=2017.4.17 in /usr/local/lib/python3.7/dist-packages (from requests>=2.19.0->datasets) (2021.10.8)\n",
            "Requirement already satisfied: charset-normalizer<3.0,>=2.0 in /usr/local/lib/python3.7/dist-packages (from aiohttp->datasets) (2.0.12)\n",
            "Requirement already satisfied: frozenlist>=1.1.1 in /usr/local/lib/python3.7/dist-packages (from aiohttp->datasets) (1.3.0)\n",
            "Requirement already satisfied: async-timeout<5.0,>=4.0.0a3 in /usr/local/lib/python3.7/dist-packages (from aiohttp->datasets) (4.0.2)\n",
            "Requirement already satisfied: attrs>=17.3.0 in /usr/local/lib/python3.7/dist-packages (from aiohttp->datasets) (21.4.0)\n",
            "Requirement already satisfied: asynctest==0.13.0 in /usr/local/lib/python3.7/dist-packages (from aiohttp->datasets) (0.13.0)\n",
            "Requirement already satisfied: aiosignal>=1.1.2 in /usr/local/lib/python3.7/dist-packages (from aiohttp->datasets) (1.2.0)\n",
            "Requirement already satisfied: multidict<7.0,>=4.5 in /usr/local/lib/python3.7/dist-packages (from aiohttp->datasets) (6.0.2)\n",
            "Requirement already satisfied: yarl<2.0,>=1.0 in /usr/local/lib/python3.7/dist-packages (from aiohttp->datasets) (1.7.2)\n",
            "Requirement already satisfied: zipp>=0.5 in /usr/local/lib/python3.7/dist-packages (from importlib-metadata->datasets) (3.8.0)\n",
            "Requirement already satisfied: python-dateutil>=2.7.3 in /usr/local/lib/python3.7/dist-packages (from pandas->datasets) (2.8.2)\n",
            "Requirement already satisfied: pytz>=2017.3 in /usr/local/lib/python3.7/dist-packages (from pandas->datasets) (2022.1)\n",
            "Requirement already satisfied: six>=1.5 in /usr/local/lib/python3.7/dist-packages (from python-dateutil>=2.7.3->pandas->datasets) (1.15.0)\n",
            "Requirement already satisfied: tokenizers!=0.11.3,<0.13,>=0.11.1 in /usr/local/lib/python3.7/dist-packages (from transformers[sentencepiece]) (0.12.1)\n",
            "Requirement already satisfied: regex!=2019.12.17 in /usr/local/lib/python3.7/dist-packages (from transformers[sentencepiece]) (2019.12.20)\n",
            "Requirement already satisfied: sacremoses in /usr/local/lib/python3.7/dist-packages (from transformers[sentencepiece]) (0.0.53)\n",
            "Requirement already satisfied: sentencepiece!=0.1.92,>=0.1.91 in /usr/local/lib/python3.7/dist-packages (from transformers[sentencepiece]) (0.1.96)\n",
            "Requirement already satisfied: protobuf in /usr/local/lib/python3.7/dist-packages (from transformers[sentencepiece]) (3.17.3)\n",
            "Requirement already satisfied: joblib in /usr/local/lib/python3.7/dist-packages (from sacremoses->transformers[sentencepiece]) (1.1.0)\n",
            "Requirement already satisfied: click in /usr/local/lib/python3.7/dist-packages (from sacremoses->transformers[sentencepiece]) (7.1.2)\n"
          ]
        }
      ]
    },
    {
      "cell_type": "markdown",
      "source": [
        "Now we should read the Google RE file. To do so, we upload the file from our local machine to google colab manually. \n",
        "\n",
        "Then we read the content of the file using pandas package in Python. \n",
        "To use Pandas (similar to any other package in python) we should first import it. "
      ],
      "metadata": {
        "id": "HpFs92-RpsWU"
      }
    },
    {
      "cell_type": "code",
      "execution_count": 43,
      "metadata": {
        "id": "t4vqTJFpcF8S"
      },
      "outputs": [],
      "source": [
        "import pandas as pd"
      ]
    },
    {
      "cell_type": "markdown",
      "source": [
        "Now let's read the content of the file. "
      ],
      "metadata": {
        "id": "JEAdv0g-qJzm"
      }
    },
    {
      "cell_type": "code",
      "source": [
        "pod = pd.read_json('/content/sample_data/place_of_death_test.jsonl', lines=True)"
      ],
      "metadata": {
        "id": "QNjoS6nFcKJn"
      },
      "execution_count": 44,
      "outputs": []
    },
    {
      "cell_type": "markdown",
      "source": [
        "Let's see how many facts do exist in this dataset."
      ],
      "metadata": {
        "id": "t8HRHmt9w_ED"
      }
    },
    {
      "cell_type": "code",
      "source": [
        "num_facts = len(pod)\n",
        "print(f\"Number of POD (place of death) facts is: {num_facts}\")"
      ],
      "metadata": {
        "colab": {
          "base_uri": "https://localhost:8080/"
        },
        "id": "oBga13yVw-SG",
        "outputId": "5c5fb0b2-d456-485e-eea4-018945423798"
      },
      "execution_count": 63,
      "outputs": [
        {
          "output_type": "stream",
          "name": "stdout",
          "text": [
            "Number of POD (place of death) facts is: 766\n"
          ]
        }
      ]
    },
    {
      "cell_type": "markdown",
      "source": [
        "Let's take a look at 5 top rows in the pod dataframe. The ``head()`` function does this action for us. "
      ],
      "metadata": {
        "id": "pCtl3UBZqQVw"
      }
    },
    {
      "cell_type": "code",
      "source": [
        "pod.head()"
      ],
      "metadata": {
        "colab": {
          "base_uri": "https://localhost:8080/",
          "height": 565
        },
        "id": "VUpvllohguPz",
        "outputId": "47731b3d-9b6a-4f1c-db92-93ca79f1d764"
      },
      "execution_count": 45,
      "outputs": [
        {
          "output_type": "execute_result",
          "data": {
            "text/plain": [
              "                                     pred         sub       obj  \\\n",
              "0  /people/deceased_person/place_of_death   /m/0205jm  /m/06mzp   \n",
              "1  /people/deceased_person/place_of_death  /m/0c4031r  /m/056_y   \n",
              "2  /people/deceased_person/place_of_death  /m/0bmf_6s  /m/0sn4f   \n",
              "3  /people/deceased_person/place_of_death   /m/05tmcf  /m/0jdtt   \n",
              "4  /people/deceased_person/place_of_death  /m/03qkk0z  /m/05qtj   \n",
              "\n",
              "                                           evidences  \\\n",
              "0  [{'url': 'http://en.wikipedia.org/wiki/John_Re...   \n",
              "1  [{'url': 'http://en.wikipedia.org/wiki/Diego_d...   \n",
              "2  [{'url': 'http://en.wikipedia.org/wiki/Art_Mur...   \n",
              "3  [{'url': 'http://en.wikipedia.org/wiki/Laurent...   \n",
              "4  [{'url': 'http://en.wikipedia.org/wiki/Honor%C...   \n",
              "\n",
              "                                           judgments     sub_w  \\\n",
              "0  [{'rater': '17966044108931836156', 'judgment':...  Q3182510   \n",
              "1  [{'rater': '3633697795227880988', 'judgment': ...  Q5274857   \n",
              "2  [{'rater': '14404876356854644346', 'judgment':...      None   \n",
              "3  [{'rater': '3633697795227880988', 'judgment': ...  Q1808061   \n",
              "4  [{'rater': '8841266254638695693', 'judgment': ...  Q3140264   \n",
              "\n",
              "            sub_label        sub_aliases    obj_w    obj_label  \\\n",
              "0  John Renshaw Starr                 []      Q39  Switzerland   \n",
              "1     Diego de Arroyo                 []    Q2807       Madrid   \n",
              "2      Art Murakowski                 []  Q856860      Hammond   \n",
              "3    Laurent Belissen                 []   Q23482    Marseille   \n",
              "4     Honoré Tournély  [Honore Tournely]      Q90        Paris   \n",
              "\n",
              "                                         obj_aliases  \\\n",
              "0  [Swiss Confederation, CH, SUI, Suisse, Schweiz...   \n",
              "1                                   [City of Madrid]   \n",
              "2                                 [Hammond, Indiana]   \n",
              "3  [Bay of Marseille, Massaliotes, Massalia, Mars...   \n",
              "4                     [City of Light, Paris, France]   \n",
              "\n",
              "                                   uuid  \\\n",
              "0  61aad52c-4256-468a-a9ae-55e3fa4dc44e   \n",
              "1  97483332-dd08-45d5-8181-a4438756c351   \n",
              "2  9ed48bca-4f61-412f-80c2-42bd44a63d58   \n",
              "3  10fb9157-33b5-4254-a27f-6abec0e5ce50   \n",
              "4  2bad5d83-437c-432b-a65d-d2aaedec8e9a   \n",
              "\n",
              "                                    masked_sentences  \n",
              "0  [After the war John Starr opened a night-club ...  \n",
              "1                  [Arroyo died at [MASK] in 1551 .]  \n",
              "2  [Murakowski died in 1985 at age 60 at his home...  \n",
              "3   [Belissen remained in [MASK]s until his death .]  \n",
              "4                        [Tournély died at [MASK] .]  "
            ],
            "text/html": [
              "\n",
              "  <div id=\"df-4316fbee-8749-4b77-9f54-dd095d149028\">\n",
              "    <div class=\"colab-df-container\">\n",
              "      <div>\n",
              "<style scoped>\n",
              "    .dataframe tbody tr th:only-of-type {\n",
              "        vertical-align: middle;\n",
              "    }\n",
              "\n",
              "    .dataframe tbody tr th {\n",
              "        vertical-align: top;\n",
              "    }\n",
              "\n",
              "    .dataframe thead th {\n",
              "        text-align: right;\n",
              "    }\n",
              "</style>\n",
              "<table border=\"1\" class=\"dataframe\">\n",
              "  <thead>\n",
              "    <tr style=\"text-align: right;\">\n",
              "      <th></th>\n",
              "      <th>pred</th>\n",
              "      <th>sub</th>\n",
              "      <th>obj</th>\n",
              "      <th>evidences</th>\n",
              "      <th>judgments</th>\n",
              "      <th>sub_w</th>\n",
              "      <th>sub_label</th>\n",
              "      <th>sub_aliases</th>\n",
              "      <th>obj_w</th>\n",
              "      <th>obj_label</th>\n",
              "      <th>obj_aliases</th>\n",
              "      <th>uuid</th>\n",
              "      <th>masked_sentences</th>\n",
              "    </tr>\n",
              "  </thead>\n",
              "  <tbody>\n",
              "    <tr>\n",
              "      <th>0</th>\n",
              "      <td>/people/deceased_person/place_of_death</td>\n",
              "      <td>/m/0205jm</td>\n",
              "      <td>/m/06mzp</td>\n",
              "      <td>[{'url': 'http://en.wikipedia.org/wiki/John_Re...</td>\n",
              "      <td>[{'rater': '17966044108931836156', 'judgment':...</td>\n",
              "      <td>Q3182510</td>\n",
              "      <td>John Renshaw Starr</td>\n",
              "      <td>[]</td>\n",
              "      <td>Q39</td>\n",
              "      <td>Switzerland</td>\n",
              "      <td>[Swiss Confederation, CH, SUI, Suisse, Schweiz...</td>\n",
              "      <td>61aad52c-4256-468a-a9ae-55e3fa4dc44e</td>\n",
              "      <td>[After the war John Starr opened a night-club ...</td>\n",
              "    </tr>\n",
              "    <tr>\n",
              "      <th>1</th>\n",
              "      <td>/people/deceased_person/place_of_death</td>\n",
              "      <td>/m/0c4031r</td>\n",
              "      <td>/m/056_y</td>\n",
              "      <td>[{'url': 'http://en.wikipedia.org/wiki/Diego_d...</td>\n",
              "      <td>[{'rater': '3633697795227880988', 'judgment': ...</td>\n",
              "      <td>Q5274857</td>\n",
              "      <td>Diego de Arroyo</td>\n",
              "      <td>[]</td>\n",
              "      <td>Q2807</td>\n",
              "      <td>Madrid</td>\n",
              "      <td>[City of Madrid]</td>\n",
              "      <td>97483332-dd08-45d5-8181-a4438756c351</td>\n",
              "      <td>[Arroyo died at [MASK] in 1551 .]</td>\n",
              "    </tr>\n",
              "    <tr>\n",
              "      <th>2</th>\n",
              "      <td>/people/deceased_person/place_of_death</td>\n",
              "      <td>/m/0bmf_6s</td>\n",
              "      <td>/m/0sn4f</td>\n",
              "      <td>[{'url': 'http://en.wikipedia.org/wiki/Art_Mur...</td>\n",
              "      <td>[{'rater': '14404876356854644346', 'judgment':...</td>\n",
              "      <td>None</td>\n",
              "      <td>Art Murakowski</td>\n",
              "      <td>[]</td>\n",
              "      <td>Q856860</td>\n",
              "      <td>Hammond</td>\n",
              "      <td>[Hammond, Indiana]</td>\n",
              "      <td>9ed48bca-4f61-412f-80c2-42bd44a63d58</td>\n",
              "      <td>[Murakowski died in 1985 at age 60 at his home...</td>\n",
              "    </tr>\n",
              "    <tr>\n",
              "      <th>3</th>\n",
              "      <td>/people/deceased_person/place_of_death</td>\n",
              "      <td>/m/05tmcf</td>\n",
              "      <td>/m/0jdtt</td>\n",
              "      <td>[{'url': 'http://en.wikipedia.org/wiki/Laurent...</td>\n",
              "      <td>[{'rater': '3633697795227880988', 'judgment': ...</td>\n",
              "      <td>Q1808061</td>\n",
              "      <td>Laurent Belissen</td>\n",
              "      <td>[]</td>\n",
              "      <td>Q23482</td>\n",
              "      <td>Marseille</td>\n",
              "      <td>[Bay of Marseille, Massaliotes, Massalia, Mars...</td>\n",
              "      <td>10fb9157-33b5-4254-a27f-6abec0e5ce50</td>\n",
              "      <td>[Belissen remained in [MASK]s until his death .]</td>\n",
              "    </tr>\n",
              "    <tr>\n",
              "      <th>4</th>\n",
              "      <td>/people/deceased_person/place_of_death</td>\n",
              "      <td>/m/03qkk0z</td>\n",
              "      <td>/m/05qtj</td>\n",
              "      <td>[{'url': 'http://en.wikipedia.org/wiki/Honor%C...</td>\n",
              "      <td>[{'rater': '8841266254638695693', 'judgment': ...</td>\n",
              "      <td>Q3140264</td>\n",
              "      <td>Honoré Tournély</td>\n",
              "      <td>[Honore Tournely]</td>\n",
              "      <td>Q90</td>\n",
              "      <td>Paris</td>\n",
              "      <td>[City of Light, Paris, France]</td>\n",
              "      <td>2bad5d83-437c-432b-a65d-d2aaedec8e9a</td>\n",
              "      <td>[Tournély died at [MASK] .]</td>\n",
              "    </tr>\n",
              "  </tbody>\n",
              "</table>\n",
              "</div>\n",
              "      <button class=\"colab-df-convert\" onclick=\"convertToInteractive('df-4316fbee-8749-4b77-9f54-dd095d149028')\"\n",
              "              title=\"Convert this dataframe to an interactive table.\"\n",
              "              style=\"display:none;\">\n",
              "        \n",
              "  <svg xmlns=\"http://www.w3.org/2000/svg\" height=\"24px\"viewBox=\"0 0 24 24\"\n",
              "       width=\"24px\">\n",
              "    <path d=\"M0 0h24v24H0V0z\" fill=\"none\"/>\n",
              "    <path d=\"M18.56 5.44l.94 2.06.94-2.06 2.06-.94-2.06-.94-.94-2.06-.94 2.06-2.06.94zm-11 1L8.5 8.5l.94-2.06 2.06-.94-2.06-.94L8.5 2.5l-.94 2.06-2.06.94zm10 10l.94 2.06.94-2.06 2.06-.94-2.06-.94-.94-2.06-.94 2.06-2.06.94z\"/><path d=\"M17.41 7.96l-1.37-1.37c-.4-.4-.92-.59-1.43-.59-.52 0-1.04.2-1.43.59L10.3 9.45l-7.72 7.72c-.78.78-.78 2.05 0 2.83L4 21.41c.39.39.9.59 1.41.59.51 0 1.02-.2 1.41-.59l7.78-7.78 2.81-2.81c.8-.78.8-2.07 0-2.86zM5.41 20L4 18.59l7.72-7.72 1.47 1.35L5.41 20z\"/>\n",
              "  </svg>\n",
              "      </button>\n",
              "      \n",
              "  <style>\n",
              "    .colab-df-container {\n",
              "      display:flex;\n",
              "      flex-wrap:wrap;\n",
              "      gap: 12px;\n",
              "    }\n",
              "\n",
              "    .colab-df-convert {\n",
              "      background-color: #E8F0FE;\n",
              "      border: none;\n",
              "      border-radius: 50%;\n",
              "      cursor: pointer;\n",
              "      display: none;\n",
              "      fill: #1967D2;\n",
              "      height: 32px;\n",
              "      padding: 0 0 0 0;\n",
              "      width: 32px;\n",
              "    }\n",
              "\n",
              "    .colab-df-convert:hover {\n",
              "      background-color: #E2EBFA;\n",
              "      box-shadow: 0px 1px 2px rgba(60, 64, 67, 0.3), 0px 1px 3px 1px rgba(60, 64, 67, 0.15);\n",
              "      fill: #174EA6;\n",
              "    }\n",
              "\n",
              "    [theme=dark] .colab-df-convert {\n",
              "      background-color: #3B4455;\n",
              "      fill: #D2E3FC;\n",
              "    }\n",
              "\n",
              "    [theme=dark] .colab-df-convert:hover {\n",
              "      background-color: #434B5C;\n",
              "      box-shadow: 0px 1px 3px 1px rgba(0, 0, 0, 0.15);\n",
              "      filter: drop-shadow(0px 1px 2px rgba(0, 0, 0, 0.3));\n",
              "      fill: #FFFFFF;\n",
              "    }\n",
              "  </style>\n",
              "\n",
              "      <script>\n",
              "        const buttonEl =\n",
              "          document.querySelector('#df-4316fbee-8749-4b77-9f54-dd095d149028 button.colab-df-convert');\n",
              "        buttonEl.style.display =\n",
              "          google.colab.kernel.accessAllowed ? 'block' : 'none';\n",
              "\n",
              "        async function convertToInteractive(key) {\n",
              "          const element = document.querySelector('#df-4316fbee-8749-4b77-9f54-dd095d149028');\n",
              "          const dataTable =\n",
              "            await google.colab.kernel.invokeFunction('convertToInteractive',\n",
              "                                                     [key], {});\n",
              "          if (!dataTable) return;\n",
              "\n",
              "          const docLinkHtml = 'Like what you see? Visit the ' +\n",
              "            '<a target=\"_blank\" href=https://colab.research.google.com/notebooks/data_table.ipynb>data table notebook</a>'\n",
              "            + ' to learn more about interactive tables.';\n",
              "          element.innerHTML = '';\n",
              "          dataTable['output_type'] = 'display_data';\n",
              "          await google.colab.output.renderOutput(dataTable, element);\n",
              "          const docLink = document.createElement('div');\n",
              "          docLink.innerHTML = docLinkHtml;\n",
              "          element.appendChild(docLink);\n",
              "        }\n",
              "      </script>\n",
              "    </div>\n",
              "  </div>\n",
              "  "
            ]
          },
          "metadata": {},
          "execution_count": 45
        }
      ]
    },
    {
      "cell_type": "markdown",
      "source": [
        "Look at the column names. There are two columns that important. These columns are 'sub_label','obj_label'. These columns show which person died in which city. "
      ],
      "metadata": {
        "id": "cv5-lOodqhc5"
      }
    },
    {
      "cell_type": "code",
      "source": [
        "pod_data_samples = pod[['sub_label','obj_label']]"
      ],
      "metadata": {
        "id": "apYh7Es7g1J6"
      },
      "execution_count": 10,
      "outputs": []
    },
    {
      "cell_type": "code",
      "source": [
        "pod_data_samples.head()"
      ],
      "metadata": {
        "colab": {
          "base_uri": "https://localhost:8080/",
          "height": 206
        },
        "id": "X18tK5QPhDxz",
        "outputId": "f372a338-245e-47a5-d8d4-078ff3bafa28"
      },
      "execution_count": 11,
      "outputs": [
        {
          "output_type": "execute_result",
          "data": {
            "text/plain": [
              "            sub_label    obj_label\n",
              "0  John Renshaw Starr  Switzerland\n",
              "1     Diego de Arroyo       Madrid\n",
              "2      Art Murakowski      Hammond\n",
              "3    Laurent Belissen    Marseille\n",
              "4     Honoré Tournély        Paris"
            ],
            "text/html": [
              "\n",
              "  <div id=\"df-be0bba79-cc86-4ad3-b13b-d2522a5d52be\">\n",
              "    <div class=\"colab-df-container\">\n",
              "      <div>\n",
              "<style scoped>\n",
              "    .dataframe tbody tr th:only-of-type {\n",
              "        vertical-align: middle;\n",
              "    }\n",
              "\n",
              "    .dataframe tbody tr th {\n",
              "        vertical-align: top;\n",
              "    }\n",
              "\n",
              "    .dataframe thead th {\n",
              "        text-align: right;\n",
              "    }\n",
              "</style>\n",
              "<table border=\"1\" class=\"dataframe\">\n",
              "  <thead>\n",
              "    <tr style=\"text-align: right;\">\n",
              "      <th></th>\n",
              "      <th>sub_label</th>\n",
              "      <th>obj_label</th>\n",
              "    </tr>\n",
              "  </thead>\n",
              "  <tbody>\n",
              "    <tr>\n",
              "      <th>0</th>\n",
              "      <td>John Renshaw Starr</td>\n",
              "      <td>Switzerland</td>\n",
              "    </tr>\n",
              "    <tr>\n",
              "      <th>1</th>\n",
              "      <td>Diego de Arroyo</td>\n",
              "      <td>Madrid</td>\n",
              "    </tr>\n",
              "    <tr>\n",
              "      <th>2</th>\n",
              "      <td>Art Murakowski</td>\n",
              "      <td>Hammond</td>\n",
              "    </tr>\n",
              "    <tr>\n",
              "      <th>3</th>\n",
              "      <td>Laurent Belissen</td>\n",
              "      <td>Marseille</td>\n",
              "    </tr>\n",
              "    <tr>\n",
              "      <th>4</th>\n",
              "      <td>Honoré Tournély</td>\n",
              "      <td>Paris</td>\n",
              "    </tr>\n",
              "  </tbody>\n",
              "</table>\n",
              "</div>\n",
              "      <button class=\"colab-df-convert\" onclick=\"convertToInteractive('df-be0bba79-cc86-4ad3-b13b-d2522a5d52be')\"\n",
              "              title=\"Convert this dataframe to an interactive table.\"\n",
              "              style=\"display:none;\">\n",
              "        \n",
              "  <svg xmlns=\"http://www.w3.org/2000/svg\" height=\"24px\"viewBox=\"0 0 24 24\"\n",
              "       width=\"24px\">\n",
              "    <path d=\"M0 0h24v24H0V0z\" fill=\"none\"/>\n",
              "    <path d=\"M18.56 5.44l.94 2.06.94-2.06 2.06-.94-2.06-.94-.94-2.06-.94 2.06-2.06.94zm-11 1L8.5 8.5l.94-2.06 2.06-.94-2.06-.94L8.5 2.5l-.94 2.06-2.06.94zm10 10l.94 2.06.94-2.06 2.06-.94-2.06-.94-.94-2.06-.94 2.06-2.06.94z\"/><path d=\"M17.41 7.96l-1.37-1.37c-.4-.4-.92-.59-1.43-.59-.52 0-1.04.2-1.43.59L10.3 9.45l-7.72 7.72c-.78.78-.78 2.05 0 2.83L4 21.41c.39.39.9.59 1.41.59.51 0 1.02-.2 1.41-.59l7.78-7.78 2.81-2.81c.8-.78.8-2.07 0-2.86zM5.41 20L4 18.59l7.72-7.72 1.47 1.35L5.41 20z\"/>\n",
              "  </svg>\n",
              "      </button>\n",
              "      \n",
              "  <style>\n",
              "    .colab-df-container {\n",
              "      display:flex;\n",
              "      flex-wrap:wrap;\n",
              "      gap: 12px;\n",
              "    }\n",
              "\n",
              "    .colab-df-convert {\n",
              "      background-color: #E8F0FE;\n",
              "      border: none;\n",
              "      border-radius: 50%;\n",
              "      cursor: pointer;\n",
              "      display: none;\n",
              "      fill: #1967D2;\n",
              "      height: 32px;\n",
              "      padding: 0 0 0 0;\n",
              "      width: 32px;\n",
              "    }\n",
              "\n",
              "    .colab-df-convert:hover {\n",
              "      background-color: #E2EBFA;\n",
              "      box-shadow: 0px 1px 2px rgba(60, 64, 67, 0.3), 0px 1px 3px 1px rgba(60, 64, 67, 0.15);\n",
              "      fill: #174EA6;\n",
              "    }\n",
              "\n",
              "    [theme=dark] .colab-df-convert {\n",
              "      background-color: #3B4455;\n",
              "      fill: #D2E3FC;\n",
              "    }\n",
              "\n",
              "    [theme=dark] .colab-df-convert:hover {\n",
              "      background-color: #434B5C;\n",
              "      box-shadow: 0px 1px 3px 1px rgba(0, 0, 0, 0.15);\n",
              "      filter: drop-shadow(0px 1px 2px rgba(0, 0, 0, 0.3));\n",
              "      fill: #FFFFFF;\n",
              "    }\n",
              "  </style>\n",
              "\n",
              "      <script>\n",
              "        const buttonEl =\n",
              "          document.querySelector('#df-be0bba79-cc86-4ad3-b13b-d2522a5d52be button.colab-df-convert');\n",
              "        buttonEl.style.display =\n",
              "          google.colab.kernel.accessAllowed ? 'block' : 'none';\n",
              "\n",
              "        async function convertToInteractive(key) {\n",
              "          const element = document.querySelector('#df-be0bba79-cc86-4ad3-b13b-d2522a5d52be');\n",
              "          const dataTable =\n",
              "            await google.colab.kernel.invokeFunction('convertToInteractive',\n",
              "                                                     [key], {});\n",
              "          if (!dataTable) return;\n",
              "\n",
              "          const docLinkHtml = 'Like what you see? Visit the ' +\n",
              "            '<a target=\"_blank\" href=https://colab.research.google.com/notebooks/data_table.ipynb>data table notebook</a>'\n",
              "            + ' to learn more about interactive tables.';\n",
              "          element.innerHTML = '';\n",
              "          dataTable['output_type'] = 'display_data';\n",
              "          await google.colab.output.renderOutput(dataTable, element);\n",
              "          const docLink = document.createElement('div');\n",
              "          docLink.innerHTML = docLinkHtml;\n",
              "          element.appendChild(docLink);\n",
              "        }\n",
              "      </script>\n",
              "    </div>\n",
              "  </div>\n",
              "  "
            ]
          },
          "metadata": {},
          "execution_count": 11
        }
      ]
    },
    {
      "cell_type": "markdown",
      "source": [
        "Now we create a lits of subjects, which are persons, and their corresponding objects, which are cities in which persons died. "
      ],
      "metadata": {
        "id": "LmZMs8U8q5qR"
      }
    },
    {
      "cell_type": "code",
      "source": [
        "subjects = pod['sub_label'].to_list()\n",
        "reference_objects = pod['obj_label'].to_list()"
      ],
      "metadata": {
        "id": "6rxpbnD0hlXg"
      },
      "execution_count": 30,
      "outputs": []
    },
    {
      "cell_type": "markdown",
      "source": [
        "Now we are ready to evaluate BERT. The idea is to give each subject to BERT and see what it returns as the city in which the person died. \n",
        "\n",
        "Let's tell the pipeline to use BERT."
      ],
      "metadata": {
        "id": "u-jPmDwHrJ9Z"
      }
    },
    {
      "cell_type": "code",
      "source": [
        "from transformers import pipeline\n",
        "unmasker = pipeline(\"fill-mask\", model=\"bert-base-uncased\")"
      ],
      "metadata": {
        "colab": {
          "base_uri": "https://localhost:8080/"
        },
        "id": "HKropHgblWoR",
        "outputId": "1c6d8936-4570-4583-9e6e-38f41b7f6215"
      },
      "execution_count": 17,
      "outputs": [
        {
          "output_type": "stream",
          "name": "stderr",
          "text": [
            "Some weights of the model checkpoint at bert-base-uncased were not used when initializing BertForMaskedLM: ['cls.seq_relationship.weight', 'cls.seq_relationship.bias']\n",
            "- This IS expected if you are initializing BertForMaskedLM from the checkpoint of a model trained on another task or with another architecture (e.g. initializing a BertForSequenceClassification model from a BertForPreTraining model).\n",
            "- This IS NOT expected if you are initializing BertForMaskedLM from the checkpoint of a model that you expect to be exactly identical (initializing a BertForSequenceClassification model from a BertForSequenceClassification model).\n"
          ]
        }
      ]
    },
    {
      "cell_type": "markdown",
      "source": [
        "For any subject in the list, we define a templae ``{s} died in [MASK]``. We give it to BERT and see what token it predictes as the object. "
      ],
      "metadata": {
        "id": "xgagsPDxrilT"
      }
    },
    {
      "cell_type": "code",
      "source": [
        "predictions = []\n",
        "for s in subjects:\n",
        "  predicted_obj = unmasker(f\"{s} died in [MASK].\")[0][\"token_str\"]\n",
        "  predictions.append(predicted_obj)"
      ],
      "metadata": {
        "id": "BKM50FoZlgXK"
      },
      "execution_count": 51,
      "outputs": []
    },
    {
      "cell_type": "markdown",
      "source": [
        "Let's look at 10 predicted labels and 10 reference objects. We can easily compare then manually. Right?"
      ],
      "metadata": {
        "id": "geZ9sEU5r77L"
      }
    },
    {
      "cell_type": "code",
      "source": [
        "print(predictions[:10])\n",
        "print(reference_objects[:10])"
      ],
      "metadata": {
        "colab": {
          "base_uri": "https://localhost:8080/"
        },
        "id": "0zxLu0CpmWtg",
        "outputId": "37ae601e-0b83-4b82-9655-bb27ab24629c"
      },
      "execution_count": 54,
      "outputs": [
        {
          "output_type": "stream",
          "name": "stdout",
          "text": [
            "['office', 'madrid', 'office', 'paris', 'paris', 'office', 'office', 'moscow', 'london', 'office']\n",
            "['Switzerland', 'Madrid', 'Hammond', 'Marseille', 'Paris', 'Greenwich', 'California', 'Moscow', 'Brighton', 'Tacoma']\n"
          ]
        }
      ]
    },
    {
      "cell_type": "markdown",
      "source": [
        "Although, we can manually compare a short list of predicated labels and reference labels, we need a line of code to automatically compare the lists when they contain many items.  The following function does such comparison:"
      ],
      "metadata": {
        "id": "AVV3i8HssHwU"
      }
    },
    {
      "cell_type": "code",
      "source": [
        "correct = 0.0\n",
        "for i in range(num_facts):\n",
        "  predicted_label = predictions[i].lower()\n",
        "  ref_label = reference_objects[i].lower()\n",
        "  if predicted_label == ref_label:\n",
        "    correct += 1\n",
        "\n",
        "p_at_1 = correct / len(predictions)\n",
        "p_at_1 = p_at_1 * 100\n",
        "print(f\"number of facts is: {num_facts}, p@1 = {p_at_1:.2f}%\")"
      ],
      "metadata": {
        "colab": {
          "base_uri": "https://localhost:8080/"
        },
        "id": "XkKUSwC1lMO3",
        "outputId": "213bd601-7d07-4377-f021-6c17f25e3318"
      },
      "execution_count": 64,
      "outputs": [
        {
          "output_type": "stream",
          "name": "stdout",
          "text": [
            "number of facts is: 766, p@1 = 10.31%\n"
          ]
        }
      ]
    }
  ]
}